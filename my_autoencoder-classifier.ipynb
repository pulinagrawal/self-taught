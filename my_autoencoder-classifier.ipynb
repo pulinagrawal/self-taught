{
 "cells": [
  {
   "cell_type": "markdown",
   "metadata": {
    "colab_type": "text",
    "id": "kR-4eNdK6lYS"
   },
   "source": [
    "Deep Learning\n",
    "=============\n",
    "\n",
    "Assignment Sparse Autoencoder\n",
    "------------\n",
    "\n",
    "Structured from `2_fullyconnected.ipynb`\n",
    "\n",
    "The goal of this assignment is to train a sparse autoencoder network on MNIST Data and visulize its validation data reconstruction."
   ]
  },
  {
   "cell_type": "code",
   "execution_count": null,
   "metadata": {
    "collapsed": true
   },
   "outputs": [],
   "source": [
    ""
   ]
  },
  {
   "cell_type": "code",
   "execution_count": 3,
   "metadata": {
    "cellView": "both",
    "colab": {
     "autoexec": {
      "startup": false,
      "wait_interval": 0.0
     }
    },
    "colab_type": "code",
    "collapsed": false,
    "id": "JLpLa8Jt7Vu4"
   },
   "outputs": [],
   "source": [
    "# These are all the modules we'll be using later. Make sure you can import them\n",
    "# before proceeding further.\n",
    "from __future__ import print_function\n",
    "import numpy as np\n",
    "import re\n",
    "import sys\n",
    "import tensorflow as tf\n",
    "from six.moves import cPickle as pickle\n",
    "from tensorflow.contrib.learn.python.learn.datasets.mnist import read_data_sets\n",
    "from tensorflow.examples.tutorials.mnist import input_data\n",
    "import matplotlib.pyplot as plt\n",
    "import matplotlib.cm as cm\n",
    "if re.search(\"ipykernel\", sys.argv[0]) :\n",
    "    %matplotlib inline"
   ]
  },
  {
   "cell_type": "markdown",
   "metadata": {
    "colab_type": "text",
    "id": "1HrCK6e17WzV"
   },
   "source": [
    "First we load the MNIST data"
   ]
  },
  {
   "cell_type": "code",
   "execution_count": 4,
   "metadata": {
    "collapsed": false
   },
   "outputs": [
    {
     "name": "stdout",
     "output_type": "stream",
     "text": [
      "Extracting train-images-idx3-ubyte.gz\n"
     ]
    },
    {
     "name": "stdout",
     "output_type": "stream",
     "text": [
      "Extracting train-labels-idx1-ubyte.gz\nExtracting t10k-images-idx3-ubyte.gz\nExtracting t10k-labels-idx1-ubyte.gz\n"
     ]
    }
   ],
   "source": [
    "data_set = input_data.read_data_sets('', False)\n",
    "training_data=data_set.train\n",
    "testing_data=data_set.test"
   ]
  },
  {
   "cell_type": "markdown",
   "metadata": {},
   "source": [
    "Checking  the data"
   ]
  },
  {
   "cell_type": "code",
   "execution_count": 5,
   "metadata": {
    "collapsed": false
   },
   "outputs": [
    {
     "data": {
      "text/plain": [
       "0.0"
      ]
     },
     "execution_count": 5,
     "metadata": {},
     "output_type": "execute_result"
    }
   ],
   "source": [
    "images_feed, labels_feed = training_data.next_batch(10000,False)\n",
    "image_size = 28\n",
    "num_labels=10\n",
    "np.min(images_feed)"
   ]
  },
  {
   "cell_type": "markdown",
   "metadata": {
    "colab_type": "text",
    "id": "L7aHrm6nGDMB"
   },
   "source": [
    "Do validation testing:\n",
    "- data as a flat matrix,\n"
   ]
  },
  {
   "cell_type": "code",
   "execution_count": null,
   "metadata": {
    "collapsed": false
   },
   "outputs": [
    {
     "data": {
      "text/plain": [
       "5000"
      ]
     },
     "execution_count": 7,
     "metadata": {},
     "output_type": "execute_result"
    }
   ],
   "source": [
    "validation_data=data_set.validation\n",
    "valid_batch,validation_labels=validation_data.next_batch(validation_data.num_examples)\n"
   ]
  },
  {
   "cell_type": "code",
   "execution_count": 7,
   "metadata": {
    "collapsed": false
   },
   "outputs": [
    {
     "data": {
      "text/plain": [
       "5000"
      ]
     },
     "execution_count": 7,
     "metadata": {},
     "output_type": "execute_result"
    }
   ],
   "source": [
    "\n",
    "validation_data.num_examples"
   ]
  },
  {
   "cell_type": "code",
   "execution_count": 27,
   "metadata": {
    "collapsed": false
   },
   "outputs": [],
   "source": [
    "batch_size = 128\n",
    "nHidden=196\n",
    "image_size=28\n",
    "beta=3\n",
    "rho=.1\n",
    "\n",
    "graph = tf.Graph()\n",
    "with graph.as_default() as g:\n",
    "\n",
    "  with tf.name_scope('ae/'):\n",
    "      # Input data. For the training data, we use a placeholder that will be fed\n",
    "      # at run time with a training minibatch.\n",
    "      tf_train_dataset = tf.placeholder(tf.float32,\n",
    "                                        shape=(batch_size, image_size * image_size), name='input')\n",
    "      tf_valid_dataset = tf.constant(valid_batch)\n",
    "      #tf_test_dataset = tf.constant(test_dataset)\n",
    "       \n",
    "      # Variables.\n",
    "      weights_hidden1 = tf.Variable(tf.truncated_normal([image_size * image_size, nHidden],stddev=0.01), name='hidden0/weights')\n",
    "      weights = tf.Variable(tf.truncated_normal([nHidden, image_size*image_size],stddev=0.01), name='hidden1/weights')\n",
    "      biases_hidden1 = tf.Variable(tf.zeros([nHidden]), name='hidden0/biases')\n",
    "      biases = tf.Variable(tf.zeros([image_size*image_size]), name='hidden1/biases')\n",
    "      \n",
    "      # Training computation.\n",
    "      hidden_comp=tf.matmul(tf_train_dataset, weights_hidden1)\n",
    "      hidden1 = tf.nn.sigmoid(hidden_comp  + biases_hidden1, name='hidden0/units')\n",
    "      output_units = tf.nn.sigmoid(tf.matmul(hidden1, weights) + biases, name='hidden1/units')\n",
    "      loss = tf.reduce_mean(tf.nn.l2_loss(tf.subtract(output_units, tf_train_dataset)), name='loss')#,tf.constant(float(batch_size)))\n",
    "      tf.summary.scalar('loss', loss)\n",
    "      summary = tf.summary.merge_all()\n",
    "      # Optimizer.\n",
    "      optimizer = tf.train.GradientDescentOptimizer(0.001).minimize(loss, name='optimizer')\n",
    "\n",
    "      # Predictions for the training, validation, and test data.\n",
    "      valid_output_units=tf.nn.sigmoid(tf.matmul(tf.nn.sigmoid(tf.matmul(tf_valid_dataset, weights_hidden1)  + biases_hidden1),weights)+biases)\n",
    "      valid_loss= tf.reduce_mean(tf.nn.l2_loss(tf.subtract(valid_output_units, tf_valid_dataset)))#,tf.constant(float(batch_size)))\n",
    "        #l2_loss variation check\n",
    "        #adaptive beta\n",
    "        #sigmoid output"
   ]
  },
  {
   "cell_type": "code",
   "execution_count": 28,
   "metadata": {
    "collapsed": false
   },
   "outputs": [
    {
     "name": "stdout",
     "output_type": "stream",
     "text": [
      "WARNING:tensorflow:From <ipython-input-28-27cb320e67bd>:5: initialize_all_variables (from tensorflow.python.ops.variables) is deprecated and will be removed after 2017-03-02.\nInstructions for updating:\nUse `tf.global_variables_initializer` instead.\n"
     ]
    },
    {
     "name": "stdout",
     "output_type": "stream",
     "text": [
      "Initialized\n"
     ]
    },
    {
     "name": "stdout",
     "output_type": "stream",
     "text": [
      "step 0  \tTrain loss  4587.36 \tValid loss 162188.0\n"
     ]
    },
    {
     "name": "stdout",
     "output_type": "stream",
     "text": [
      "step 500  \tTrain loss  1922.69 \tValid loss 74138.6\n"
     ]
    },
    {
     "ename": "KeyboardInterrupt",
     "evalue": "",
     "traceback": [
      "\u001b[1;31m---------------------------------------------------------------------------\u001b[0m",
      "\u001b[1;31mKeyboardInterrupt\u001b[0m                         Traceback (most recent call last)",
      "\u001b[1;32m<ipython-input-28-27cb320e67bd>\u001b[0m in \u001b[0;36m<module>\u001b[1;34m()\u001b[0m\n\u001b[0;32m     22\u001b[0m     \u001b[0mfeed_dict\u001b[0m \u001b[1;33m=\u001b[0m \u001b[1;33m{\u001b[0m\u001b[0mtf_train_dataset\u001b[0m \u001b[1;33m:\u001b[0m \u001b[0mbatch_data\u001b[0m\u001b[1;33m}\u001b[0m\u001b[1;33m\u001b[0m\u001b[0m\n\u001b[0;32m     23\u001b[0m     summary_out, _, l, feature_weights, feature_biases= session.run(\n\u001b[1;32m---> 24\u001b[1;33m       [summary, optimizer, loss, weights_hidden1, biases_hidden1], feed_dict=feed_dict)\n\u001b[0m\u001b[0;32m     25\u001b[0m     \u001b[0mtrain_writer\u001b[0m\u001b[1;33m.\u001b[0m\u001b[0madd_summary\u001b[0m\u001b[1;33m(\u001b[0m\u001b[0msummary_out\u001b[0m\u001b[1;33m,\u001b[0m \u001b[0mstep\u001b[0m\u001b[1;33m)\u001b[0m\u001b[1;33m\u001b[0m\u001b[0m\n\u001b[0;32m     26\u001b[0m     \u001b[1;32mif\u001b[0m \u001b[0mstep\u001b[0m\u001b[1;33m%\u001b[0m\u001b[1;36m500\u001b[0m\u001b[1;33m==\u001b[0m\u001b[1;36m0\u001b[0m\u001b[1;33m:\u001b[0m\u001b[1;33m\u001b[0m\u001b[0m\n",
      "\u001b[1;32mC:\\Users\\PulinTablet\\AppData\\Local\\Programs\\Python\\Python35\\lib\\site-packages\\tensorflow\\python\\client\\session.py\u001b[0m in \u001b[0;36mrun\u001b[1;34m(self, fetches, feed_dict, options, run_metadata)\u001b[0m\n\u001b[0;32m    765\u001b[0m     \u001b[1;32mtry\u001b[0m\u001b[1;33m:\u001b[0m\u001b[1;33m\u001b[0m\u001b[0m\n\u001b[0;32m    766\u001b[0m       result = self._run(None, fetches, feed_dict, options_ptr,\n\u001b[1;32m--> 767\u001b[1;33m                          run_metadata_ptr)\n\u001b[0m\u001b[0;32m    768\u001b[0m       \u001b[1;32mif\u001b[0m \u001b[0mrun_metadata\u001b[0m\u001b[1;33m:\u001b[0m\u001b[1;33m\u001b[0m\u001b[0m\n\u001b[0;32m    769\u001b[0m         \u001b[0mproto_data\u001b[0m \u001b[1;33m=\u001b[0m \u001b[0mtf_session\u001b[0m\u001b[1;33m.\u001b[0m\u001b[0mTF_GetBuffer\u001b[0m\u001b[1;33m(\u001b[0m\u001b[0mrun_metadata_ptr\u001b[0m\u001b[1;33m)\u001b[0m\u001b[1;33m\u001b[0m\u001b[0m\n",
      "\u001b[1;32mC:\\Users\\PulinTablet\\AppData\\Local\\Programs\\Python\\Python35\\lib\\site-packages\\tensorflow\\python\\client\\session.py\u001b[0m in \u001b[0;36m_run\u001b[1;34m(self, handle, fetches, feed_dict, options, run_metadata)\u001b[0m\n\u001b[0;32m    963\u001b[0m     \u001b[1;32mif\u001b[0m \u001b[0mfinal_fetches\u001b[0m \u001b[1;32mor\u001b[0m \u001b[0mfinal_targets\u001b[0m\u001b[1;33m:\u001b[0m\u001b[1;33m\u001b[0m\u001b[0m\n\u001b[0;32m    964\u001b[0m       results = self._do_run(handle, final_targets, final_fetches,\n\u001b[1;32m--> 965\u001b[1;33m                              feed_dict_string, options, run_metadata)\n\u001b[0m\u001b[0;32m    966\u001b[0m     \u001b[1;32melse\u001b[0m\u001b[1;33m:\u001b[0m\u001b[1;33m\u001b[0m\u001b[0m\n\u001b[0;32m    967\u001b[0m       \u001b[0mresults\u001b[0m \u001b[1;33m=\u001b[0m \u001b[1;33m[\u001b[0m\u001b[1;33m]\u001b[0m\u001b[1;33m\u001b[0m\u001b[0m\n",
      "\u001b[1;32mC:\\Users\\PulinTablet\\AppData\\Local\\Programs\\Python\\Python35\\lib\\site-packages\\tensorflow\\python\\client\\session.py\u001b[0m in \u001b[0;36m_do_run\u001b[1;34m(self, handle, target_list, fetch_list, feed_dict, options, run_metadata)\u001b[0m\n\u001b[0;32m   1013\u001b[0m     \u001b[1;32mif\u001b[0m \u001b[0mhandle\u001b[0m \u001b[1;32mis\u001b[0m \u001b[1;32mNone\u001b[0m\u001b[1;33m:\u001b[0m\u001b[1;33m\u001b[0m\u001b[0m\n\u001b[0;32m   1014\u001b[0m       return self._do_call(_run_fn, self._session, feed_dict, fetch_list,\n\u001b[1;32m-> 1015\u001b[1;33m                            target_list, options, run_metadata)\n\u001b[0m\u001b[0;32m   1016\u001b[0m     \u001b[1;32melse\u001b[0m\u001b[1;33m:\u001b[0m\u001b[1;33m\u001b[0m\u001b[0m\n\u001b[0;32m   1017\u001b[0m       return self._do_call(_prun_fn, self._session, handle, feed_dict,\n",
      "\u001b[1;32mC:\\Users\\PulinTablet\\AppData\\Local\\Programs\\Python\\Python35\\lib\\site-packages\\tensorflow\\python\\client\\session.py\u001b[0m in \u001b[0;36m_do_call\u001b[1;34m(self, fn, *args)\u001b[0m\n\u001b[0;32m   1020\u001b[0m   \u001b[1;32mdef\u001b[0m \u001b[0m_do_call\u001b[0m\u001b[1;33m(\u001b[0m\u001b[0mself\u001b[0m\u001b[1;33m,\u001b[0m \u001b[0mfn\u001b[0m\u001b[1;33m,\u001b[0m \u001b[1;33m*\u001b[0m\u001b[0margs\u001b[0m\u001b[1;33m)\u001b[0m\u001b[1;33m:\u001b[0m\u001b[1;33m\u001b[0m\u001b[0m\n\u001b[0;32m   1021\u001b[0m     \u001b[1;32mtry\u001b[0m\u001b[1;33m:\u001b[0m\u001b[1;33m\u001b[0m\u001b[0m\n\u001b[1;32m-> 1022\u001b[1;33m       \u001b[1;32mreturn\u001b[0m \u001b[0mfn\u001b[0m\u001b[1;33m(\u001b[0m\u001b[1;33m*\u001b[0m\u001b[0margs\u001b[0m\u001b[1;33m)\u001b[0m\u001b[1;33m\u001b[0m\u001b[0m\n\u001b[0m\u001b[0;32m   1023\u001b[0m     \u001b[1;32mexcept\u001b[0m \u001b[0merrors\u001b[0m\u001b[1;33m.\u001b[0m\u001b[0mOpError\u001b[0m \u001b[1;32mas\u001b[0m \u001b[0me\u001b[0m\u001b[1;33m:\u001b[0m\u001b[1;33m\u001b[0m\u001b[0m\n\u001b[0;32m   1024\u001b[0m       \u001b[0mmessage\u001b[0m \u001b[1;33m=\u001b[0m \u001b[0mcompat\u001b[0m\u001b[1;33m.\u001b[0m\u001b[0mas_text\u001b[0m\u001b[1;33m(\u001b[0m\u001b[0me\u001b[0m\u001b[1;33m.\u001b[0m\u001b[0mmessage\u001b[0m\u001b[1;33m)\u001b[0m\u001b[1;33m\u001b[0m\u001b[0m\n",
      "\u001b[1;32mC:\\Users\\PulinTablet\\AppData\\Local\\Programs\\Python\\Python35\\lib\\site-packages\\tensorflow\\python\\client\\session.py\u001b[0m in \u001b[0;36m_run_fn\u001b[1;34m(session, feed_dict, fetch_list, target_list, options, run_metadata)\u001b[0m\n\u001b[0;32m   1002\u001b[0m         return tf_session.TF_Run(session, options,\n\u001b[0;32m   1003\u001b[0m                                  \u001b[0mfeed_dict\u001b[0m\u001b[1;33m,\u001b[0m \u001b[0mfetch_list\u001b[0m\u001b[1;33m,\u001b[0m \u001b[0mtarget_list\u001b[0m\u001b[1;33m,\u001b[0m\u001b[1;33m\u001b[0m\u001b[0m\n\u001b[1;32m-> 1004\u001b[1;33m                                  status, run_metadata)\n\u001b[0m\u001b[0;32m   1005\u001b[0m \u001b[1;33m\u001b[0m\u001b[0m\n\u001b[0;32m   1006\u001b[0m     \u001b[1;32mdef\u001b[0m \u001b[0m_prun_fn\u001b[0m\u001b[1;33m(\u001b[0m\u001b[0msession\u001b[0m\u001b[1;33m,\u001b[0m \u001b[0mhandle\u001b[0m\u001b[1;33m,\u001b[0m \u001b[0mfeed_dict\u001b[0m\u001b[1;33m,\u001b[0m \u001b[0mfetch_list\u001b[0m\u001b[1;33m)\u001b[0m\u001b[1;33m:\u001b[0m\u001b[1;33m\u001b[0m\u001b[0m\n",
      "\u001b[1;31mKeyboardInterrupt\u001b[0m: "
     ],
     "output_type": "error"
    }
   ],
   "source": [
    "num_steps = 100000\n",
    "\n",
    "with tf.Session(graph=graph) as session:\n",
    "  train_writer = tf.summary.FileWriter('train_summary_ipynb', session.graph)\n",
    "  tf.initialize_all_variables().run()\n",
    "  print(\"Initialized\")\n",
    "  batch_data,_ = training_data.next_batch(batch_size)\n",
    "  # Prepare a dictionary telling the session where to feed the minibatch.\n",
    "  # The key of the dictionary is the placeholder node of the graph to be fed,\n",
    "  # and the value is the numpy array to feed to it.\n",
    "  feed_dict = {tf_train_dataset : batch_data}\n",
    "  _, l, v_l, valid_out_data = session.run([optimizer, loss, valid_loss, valid_output_units], feed_dict=feed_dict)\n",
    "  prev_v_l = v_l\n",
    "  for step in range(num_steps):\n",
    "    # Pick an offset within the training data, which has been randomized.\n",
    "    # Note: we could use better randomization across epochs.\n",
    "    # Generate a minibatch.\n",
    "    batch_data,_ = training_data.next_batch(batch_size)\n",
    "    # Prepare a dictionary telling the session where to feed the minibatch.\n",
    "    # The key of the dictionary is the placeholder node of the graph to be fed,\n",
    "    # and the value is the numpy array to feed to it.\n",
    "    feed_dict = {tf_train_dataset : batch_data}\n",
    "    summary_out, _, l, feature_weights, feature_biases= session.run(\n",
    "      [summary, optimizer, loss, weights_hidden1, biases_hidden1], feed_dict=feed_dict)\n",
    "    train_writer.add_summary(summary_out, step)\n",
    "    if step%500==0:\n",
    "        _, l, v_l, valid_out_data = session.run([optimizer, loss, valid_loss,valid_output_units], feed_dict=feed_dict)\n",
    "        print(\"step\", step,\" \\tTrain loss \",l, \"\\tValid loss\",v_l)\n",
    "        if prev_v_l < v_l:\n",
    "            break\n",
    "        \n",
    "# for i in xrange(batch_size):\n",
    "    #        plt.imshow(features[i].reshape(image_size,image_size), cmap=cm.gray)"
   ]
  },
  {
   "cell_type": "markdown",
   "metadata": {},
   "source": [
    "## Displaying the reconstruction of first 100 input images in validation by trained sparse autoencoder"
   ]
  },
  {
   "cell_type": "code",
   "execution_count": 16,
   "metadata": {
    "collapsed": false
   },
   "outputs": [
    {
     "name": "stdout",
     "output_type": "stream",
     "text": [
      "(784, 196)\n(196, 784)\n"
     ]
    }
   ],
   "source": [
    "print(feature_weights.shape)\n",
    "features=feature_weights.transpose()  \n",
    "print(features.shape)\n",
    "\n",
    "fig = plt.figure(figsize = (10,10))\n",
    "for i in range(100):\n",
    "   ax = fig.add_subplot(10,10,i+1)\n",
    "   ax.imshow(valid_out_data[i].reshape(image_size,image_size), cmap=cm.gray)"
   ]
  },
  {
   "cell_type": "markdown",
   "metadata": {},
   "source": [
    "### Displaying the first 100 features used to do the reconstruction"
   ]
  },
  {
   "cell_type": "code",
   "execution_count": 18,
   "metadata": {
    "collapsed": false
   },
   "outputs": [
    {
     "name": "stdout",
     "output_type": "stream",
     "text": [
      "(784, 196)\n(196, 784)\n"
     ]
    }
   ],
   "source": [
    "print(feature_weights.shape)\n",
    "features=feature_weights.transpose()  \n",
    "print(features.shape)\n",
    "\n",
    "fig = plt.figure(figsize = (10,10))\n",
    "for i in range(100):\n",
    "   ax = fig.add_subplot(10,10,i+1)\n",
    "   ax.imshow(features[i].reshape(image_size,image_size), cmap=cm.gray)"
   ]
  },
  {
   "cell_type": "markdown",
   "metadata": {},
   "source": [
    "## Training Softmax Classifier"
   ]
  },
  {
   "cell_type": "code",
   "execution_count": 12,
   "metadata": {
    "collapsed": true
   },
   "outputs": [],
   "source": [
    "test_dataset,testing_labels=testing_data.next_batch(testing_data.num_examples)"
   ]
  },
  {
   "cell_type": "code",
   "execution_count": null,
   "metadata": {
    "collapsed": false
   },
   "outputs": [],
   "source": [
    "batch_size = 128\n",
    "num_labels=10\n",
    "nHidden=196\n",
    "beta=3\n",
    "rho=.1\n",
    "tf.reset_default_graph()\n",
    "graph = tf.Graph()\n",
    "with graph.as_default():\n",
    "\n",
    "  # Input data. For the training data, we use a placeholder that will be fed\n",
    "  # at run time with a training minibatch.\n",
    "  weights_hidden1 = tf.constant(feature_weights)\n",
    "  biases_hidden1 = tf.constant(feature_biases)\n",
    "  tf_train_dataset = tf.placeholder(tf.float32,\n",
    "                                    shape=(batch_size, image_size * image_size))\n",
    "  tf_train_labels = tf.placeholder(tf.float32, shape=(batch_size, num_labels))\n",
    "  tf_valid_dataset = tf.constant(valid_batch)\n",
    "  tf_test_dataset = tf.constant(test_dataset)\n",
    "   \n",
    "  # Variables.\n",
    "  logit_weights= tf.Variable(tf.truncated_normal([nHidden, num_labels]))\n",
    "  logit_biases = tf.Variable(tf.zeros([num_labels]))\n",
    "  \n",
    "  # Training computation.\n",
    "  hidden1 = tf.nn.sigmoid(tf.mul(tf.matmul(tf_train_dataset, weights_hidden1)  + biases_hidden1,8))\n",
    "  logits = tf.matmul(hidden1, logit_weights) + logit_biases\n",
    "  loss = tf.reduce_mean(\n",
    "    tf.nn.softmax_cross_entropy_with_logits(logits, tf_train_labels))\n",
    "\n",
    "  # Optimizer.\n",
    "  optimizer = tf.train.GradientDescentOptimizer(0.001).minimize(loss)\n",
    "  \n",
    "  # Predictions for the training, validation, and test data.\n",
    "  train_prediction = tf.nn.softmax(logits)\n",
    "  valid_prediction = tf.nn.softmax(tf.matmul(\n",
    "    tf.nn.sigmoid(tf.matmul(tf_valid_dataset, weights_hidden1) + biases_hidden1), logit_weights) + logit_biases)\n",
    "  test_prediction = tf.nn.softmax(tf.matmul(\n",
    "    tf.nn.sigmoid(tf.matmul(tf_test_dataset, weights_hidden1) + biases_hidden1), logit_weights) + logit_biases)"
   ]
  },
  {
   "cell_type": "code",
   "execution_count": 14,
   "metadata": {
    "collapsed": true
   },
   "outputs": [],
   "source": [
    "def reformat(labels):\n",
    "  # Map 0 to [1.0, 0.0, 0.0 ...], 1 to [0.0, 1.0, 0.0 ...]\n",
    "  labels = (np.arange(num_labels) == labels[:,None]).astype(np.float32)\n",
    "  return labels\n",
    "\n",
    "def accuracy(predictions, labels):\n",
    "  return (100.0 * np.sum(np.argmax(predictions, 1) == np.argmax(labels, 1))\n",
    "          / predictions.shape[0])"
   ]
  },
  {
   "cell_type": "code",
   "execution_count": 16,
   "metadata": {
    "collapsed": false
   },
   "outputs": [
    {
     "name": "stdout",
     "output_type": "stream",
     "text": [
      "Initialized\n",
      "Minibatch loss at step 0: 4.458472\n",
      "Minibatch accuracy: 10.2%\n",
      "Validation accuracy: 10.0%\n",
      "Minibatch loss at step 500: 4.526332\n",
      "Minibatch accuracy: 10.2%\n",
      "Validation accuracy: 9.9%\n",
      "Minibatch loss at step 1000: 4.072015\n",
      "Minibatch accuracy: 10.9%\n",
      "Validation accuracy: 10.0%\n",
      "Minibatch loss at step 1500: 4.446451\n",
      "Minibatch accuracy: 10.9%\n",
      "Validation accuracy: 10.1%\n",
      "Minibatch loss at step 2000: 4.175397\n",
      "Minibatch accuracy: 14.8%\n",
      "Validation accuracy: 10.2%\n",
      "Minibatch loss at step 2500: 3.968991\n",
      "Minibatch accuracy: 14.1%\n",
      "Validation accuracy: 10.4%\n",
      "Minibatch loss at step 3000: 3.904961\n",
      "Minibatch accuracy: 14.8%\n",
      "Validation accuracy: 10.7%\n",
      "Minibatch loss at step 3500: 3.426284\n",
      "Minibatch accuracy: 18.8%\n",
      "Validation accuracy: 10.8%\n",
      "Minibatch loss at step 4000: 3.833185\n",
      "Minibatch accuracy: 11.7%\n",
      "Validation accuracy: 11.0%\n",
      "Minibatch loss at step 4500: 4.019346\n",
      "Minibatch accuracy: 18.0%\n",
      "Validation accuracy: 11.2%\n",
      "Minibatch loss at step 5000: 3.406018\n",
      "Minibatch accuracy: 14.8%\n",
      "Validation accuracy: 11.4%\n",
      "Minibatch loss at step 5500: 3.328772\n",
      "Minibatch accuracy: 16.4%\n",
      "Validation accuracy: 11.7%\n",
      "Minibatch loss at step 6000: 3.263033\n",
      "Minibatch accuracy: 18.0%\n",
      "Validation accuracy: 12.0%\n",
      "Minibatch loss at step 6500: 3.383528\n",
      "Minibatch accuracy: 18.8%\n",
      "Validation accuracy: 12.2%\n",
      "Minibatch loss at step 7000: 3.163746\n",
      "Minibatch accuracy: 20.3%\n",
      "Validation accuracy: 12.4%\n",
      "Minibatch loss at step 7500: 3.236510\n",
      "Minibatch accuracy: 26.6%\n",
      "Validation accuracy: 12.7%\n",
      "Minibatch loss at step 8000: 3.001387\n",
      "Minibatch accuracy: 23.4%\n",
      "Validation accuracy: 13.0%\n",
      "Minibatch loss at step 8500: 3.392463\n",
      "Minibatch accuracy: 16.4%\n",
      "Validation accuracy: 13.1%\n",
      "Minibatch loss at step 9000: 3.111395\n",
      "Minibatch accuracy: 21.1%\n",
      "Validation accuracy: 13.4%\n",
      "Minibatch loss at step 9500: 2.463645\n",
      "Minibatch accuracy: 35.2%\n",
      "Validation accuracy: 13.6%\n",
      "Minibatch loss at step 10000: 2.752994\n",
      "Minibatch accuracy: 33.6%\n",
      "Validation accuracy: 13.8%\n",
      "Minibatch loss at step 10500: 2.800018\n",
      "Minibatch accuracy: 21.1%\n",
      "Validation accuracy: 14.1%\n",
      "Minibatch loss at step 11000: 2.926527\n",
      "Minibatch accuracy: 23.4%\n",
      "Validation accuracy: 14.3%\n",
      "Minibatch loss at step 11500: 2.925367\n",
      "Minibatch accuracy: 25.8%\n",
      "Validation accuracy: 14.5%\n",
      "Minibatch loss at step 12000: 2.530733\n",
      "Minibatch accuracy: 31.2%\n",
      "Validation accuracy: 14.8%\n",
      "Minibatch loss at step 12500: 2.936627\n",
      "Minibatch accuracy: 28.1%\n",
      "Validation accuracy: 15.1%\n",
      "Minibatch loss at step 13000: 2.544489\n",
      "Minibatch accuracy: 29.7%\n",
      "Validation accuracy: 15.3%\n",
      "Minibatch loss at step 13500: 2.133724\n",
      "Minibatch accuracy: 35.9%\n",
      "Validation accuracy: 15.5%\n",
      "Minibatch loss at step 14000: 2.397240\n",
      "Minibatch accuracy: 32.8%\n",
      "Validation accuracy: 15.7%\n",
      "Minibatch loss at step 14500: 2.689455\n",
      "Minibatch accuracy: 28.9%\n",
      "Validation accuracy: 15.9%\n",
      "Minibatch loss at step 15000: 2.277229\n",
      "Minibatch accuracy: 41.4%\n",
      "Validation accuracy: 16.2%\n",
      "Minibatch loss at step 15500: 2.061590\n",
      "Minibatch accuracy: 43.0%\n",
      "Validation accuracy: 16.3%\n",
      "Minibatch loss at step 16000: 1.981788\n",
      "Minibatch accuracy: 41.4%\n",
      "Validation accuracy: 16.5%\n",
      "Minibatch loss at step 16500: 2.604492\n",
      "Minibatch accuracy: 35.2%\n",
      "Validation accuracy: 16.8%\n",
      "Minibatch loss at step 17000: 2.499732\n",
      "Minibatch accuracy: 33.6%\n",
      "Validation accuracy: 16.9%\n",
      "Minibatch loss at step 17500: 2.208176\n",
      "Minibatch accuracy: 39.8%\n",
      "Validation accuracy: 17.2%\n",
      "Minibatch loss at step 18000: 2.269619\n",
      "Minibatch accuracy: 38.3%\n",
      "Validation accuracy: 17.2%\n",
      "Minibatch loss at step 18500: 2.153839\n",
      "Minibatch accuracy: 40.6%\n",
      "Validation accuracy: 17.4%\n",
      "Minibatch loss at step 19000: 2.213007\n",
      "Minibatch accuracy: 40.6%\n",
      "Validation accuracy: 17.6%\n",
      "Minibatch loss at step 19500: 1.869719\n",
      "Minibatch accuracy: 43.0%\n",
      "Validation accuracy: 17.8%\n",
      "Minibatch loss at step 20000: 2.098769\n",
      "Minibatch accuracy: 38.3%\n",
      "Validation accuracy: 18.0%\n",
      "Minibatch loss at step 20500: 2.265911\n",
      "Minibatch accuracy: 43.8%\n",
      "Validation accuracy: 18.0%\n",
      "Minibatch loss at step 21000: 1.990100\n",
      "Minibatch accuracy: 40.6%\n",
      "Validation accuracy: 18.3%\n",
      "Minibatch loss at step 21500: 1.919225\n",
      "Minibatch accuracy: 44.5%\n",
      "Validation accuracy: 18.5%\n",
      "Minibatch loss at step 22000: 2.152349\n",
      "Minibatch accuracy: 39.1%\n",
      "Validation accuracy: 18.6%\n",
      "Minibatch loss at step 22500: 2.143081\n",
      "Minibatch accuracy: 42.2%\n",
      "Validation accuracy: 18.7%\n",
      "Minibatch loss at step 23000: 1.796035\n",
      "Minibatch accuracy: 44.5%\n",
      "Validation accuracy: 18.9%\n",
      "Minibatch loss at step 23500: 1.999274\n",
      "Minibatch accuracy: 43.0%\n",
      "Validation accuracy: 19.2%\n",
      "Minibatch loss at step 24000: 1.938586\n",
      "Minibatch accuracy: 41.4%\n",
      "Validation accuracy: 19.3%\n",
      "Minibatch loss at step 24500: 1.937821\n",
      "Minibatch accuracy: 46.9%\n",
      "Validation accuracy: 19.3%\n",
      "Minibatch loss at step 25000: 1.456299\n",
      "Minibatch accuracy: 56.2%\n",
      "Validation accuracy: 19.4%\n",
      "Minibatch loss at step 25500: 1.741993\n",
      "Minibatch accuracy: 46.9%\n",
      "Validation accuracy: 19.5%\n",
      "Minibatch loss at step 26000: 1.831155\n",
      "Minibatch accuracy: 49.2%\n",
      "Validation accuracy: 19.6%\n",
      "Minibatch loss at step 26500: 1.792224\n",
      "Minibatch accuracy: 49.2%\n",
      "Validation accuracy: 19.7%\n",
      "Minibatch loss at step 27000: 1.602298\n",
      "Minibatch accuracy: 53.9%\n",
      "Validation accuracy: 19.9%\n",
      "Minibatch loss at step 27500: 1.583079\n",
      "Minibatch accuracy: 52.3%\n",
      "Validation accuracy: 20.0%\n",
      "Minibatch loss at step 28000: 1.664560\n",
      "Minibatch accuracy: 54.7%\n",
      "Validation accuracy: 20.1%\n",
      "Minibatch loss at step 28500: 1.471473\n",
      "Minibatch accuracy: 57.0%\n",
      "Validation accuracy: 20.4%\n",
      "Minibatch loss at step 29000: 1.672014\n",
      "Minibatch accuracy: 50.0%\n",
      "Validation accuracy: 20.5%\n",
      "Minibatch loss at step 29500: 1.702462\n",
      "Minibatch accuracy: 53.1%\n",
      "Validation accuracy: 20.5%\n",
      "Minibatch loss at step 30000: 1.483929\n",
      "Minibatch accuracy: 56.2%\n",
      "Validation accuracy: 20.8%\n",
      "Minibatch loss at step 30500: 1.628849\n",
      "Minibatch accuracy: 53.1%\n",
      "Validation accuracy: 20.9%\n",
      "Minibatch loss at step 31000: 1.396837\n",
      "Minibatch accuracy: 50.8%\n",
      "Validation accuracy: 21.2%\n",
      "Minibatch loss at step 31500: 1.360548\n",
      "Minibatch accuracy: 53.1%\n",
      "Validation accuracy: 21.3%\n",
      "Minibatch loss at step 32000: 1.495420\n",
      "Minibatch accuracy: 53.1%\n",
      "Validation accuracy: 21.4%\n",
      "Minibatch loss at step 32500: 1.333079\n",
      "Minibatch accuracy: 58.6%\n",
      "Validation accuracy: 21.5%\n",
      "Minibatch loss at step 33000: 1.686945\n",
      "Minibatch accuracy: 54.7%\n",
      "Validation accuracy: 21.6%\n",
      "Minibatch loss at step 33500: 1.544260\n",
      "Minibatch accuracy: 53.9%\n",
      "Validation accuracy: 21.7%\n",
      "Minibatch loss at step 34000: 1.456675\n",
      "Minibatch accuracy: 58.6%\n",
      "Validation accuracy: 21.8%\n",
      "Minibatch loss at step 34500: 1.671370\n",
      "Minibatch accuracy: 52.3%\n",
      "Validation accuracy: 22.0%\n",
      "Minibatch loss at step 35000: 1.338318\n",
      "Minibatch accuracy: 57.0%\n",
      "Validation accuracy: 22.1%\n",
      "Minibatch loss at step 35500: 1.481108\n",
      "Minibatch accuracy: 53.9%\n",
      "Validation accuracy: 22.3%\n",
      "Minibatch loss at step 36000: 1.437979\n",
      "Minibatch accuracy: 59.4%\n",
      "Validation accuracy: 22.4%\n",
      "Minibatch loss at step 36500: 1.551531\n",
      "Minibatch accuracy: 51.6%\n",
      "Validation accuracy: 22.6%\n",
      "Minibatch loss at step 37000: 1.410710\n",
      "Minibatch accuracy: 57.0%\n",
      "Validation accuracy: 22.8%\n",
      "Minibatch loss at step 37500: 1.339078\n",
      "Minibatch accuracy: 59.4%\n",
      "Validation accuracy: 22.8%\n",
      "Minibatch loss at step 38000: 1.438837\n",
      "Minibatch accuracy: 56.2%\n",
      "Validation accuracy: 22.9%\n",
      "Minibatch loss at step 38500: 1.542157\n",
      "Minibatch accuracy: 54.7%\n",
      "Validation accuracy: 22.9%\n",
      "Minibatch loss at step 39000: 0.918024\n",
      "Minibatch accuracy: 69.5%\n",
      "Validation accuracy: 23.1%\n",
      "Minibatch loss at step 39500: 1.395297\n",
      "Minibatch accuracy: 54.7%\n",
      "Validation accuracy: 23.2%\n",
      "Minibatch loss at step 40000: 1.267877\n",
      "Minibatch accuracy: 61.7%\n",
      "Validation accuracy: 23.3%\n",
      "Minibatch loss at step 40500: 1.261002\n",
      "Minibatch accuracy: 67.2%\n",
      "Validation accuracy: 23.4%\n",
      "Minibatch loss at step 41000: 1.493474\n",
      "Minibatch accuracy: 59.4%\n",
      "Validation accuracy: 23.5%\n",
      "Minibatch loss at step 41500: 1.127669\n",
      "Minibatch accuracy: 66.4%\n",
      "Validation accuracy: 23.6%\n",
      "Minibatch loss at step 42000: 1.372483\n",
      "Minibatch accuracy: 56.2%\n",
      "Validation accuracy: 23.7%\n",
      "Minibatch loss at step 42500: 1.250972\n",
      "Minibatch accuracy: 63.3%\n",
      "Validation accuracy: 23.8%\n",
      "Minibatch loss at step 43000: 1.171402\n",
      "Minibatch accuracy: 65.6%\n",
      "Validation accuracy: 23.8%\n",
      "Minibatch loss at step 43500: 1.425875\n",
      "Minibatch accuracy: 55.5%\n",
      "Validation accuracy: 24.0%\n",
      "Minibatch loss at step 44000: 1.199745\n",
      "Minibatch accuracy: 64.1%\n",
      "Validation accuracy: 24.0%\n",
      "Minibatch loss at step 44500: 1.175853\n",
      "Minibatch accuracy: 65.6%\n",
      "Validation accuracy: 24.1%\n",
      "Minibatch loss at step 45000: 1.058444\n",
      "Minibatch accuracy: 65.6%\n",
      "Validation accuracy: 24.1%\n",
      "Minibatch loss at step 45500: 1.239367\n",
      "Minibatch accuracy: 62.5%\n",
      "Validation accuracy: 24.3%\n",
      "Minibatch loss at step 46000: 1.274095\n",
      "Minibatch accuracy: 62.5%\n",
      "Validation accuracy: 24.4%\n",
      "Minibatch loss at step 46500: 1.127345\n",
      "Minibatch accuracy: 61.7%\n",
      "Validation accuracy: 24.4%\n",
      "Minibatch loss at step 47000: 1.039316\n",
      "Minibatch accuracy: 66.4%\n",
      "Validation accuracy: 24.5%\n",
      "Minibatch loss at step 47500: 1.310726\n",
      "Minibatch accuracy: 58.6%\n",
      "Validation accuracy: 24.5%\n",
      "Minibatch loss at step 48000: 1.141513\n",
      "Minibatch accuracy: 61.7%\n",
      "Validation accuracy: 24.6%\n",
      "Minibatch loss at step 48500: 1.112197\n",
      "Minibatch accuracy: 67.2%\n",
      "Validation accuracy: 24.7%\n",
      "Minibatch loss at step 49000: 1.023762\n",
      "Minibatch accuracy: 69.5%\n",
      "Validation accuracy: 24.8%\n",
      "Minibatch loss at step 49500: 1.312299\n",
      "Minibatch accuracy: 62.5%\n",
      "Validation accuracy: 24.8%\n",
      "Minibatch loss at step 50000: 1.335130\n",
      "Minibatch accuracy: 65.6%\n",
      "Validation accuracy: 24.9%\n",
      "Minibatch loss at step 50500: 1.213350\n",
      "Minibatch accuracy: 68.0%\n",
      "Validation accuracy: 25.0%\n",
      "Minibatch loss at step 51000: 1.251607\n",
      "Minibatch accuracy: 67.2%\n",
      "Validation accuracy: 25.0%\n",
      "Minibatch loss at step 51500: 1.222056\n",
      "Minibatch accuracy: 57.0%\n",
      "Validation accuracy: 25.1%\n",
      "Minibatch loss at step 52000: 1.121719\n",
      "Minibatch accuracy: 63.3%\n",
      "Validation accuracy: 25.1%\n",
      "Minibatch loss at step 52500: 1.239630\n",
      "Minibatch accuracy: 63.3%\n",
      "Validation accuracy: 25.2%\n",
      "Minibatch loss at step 53000: 0.886632\n",
      "Minibatch accuracy: 74.2%\n",
      "Validation accuracy: 25.2%\n",
      "Minibatch loss at step 53500: 1.119727\n",
      "Minibatch accuracy: 65.6%\n",
      "Validation accuracy: 25.3%\n",
      "Minibatch loss at step 54000: 1.131636\n",
      "Minibatch accuracy: 60.2%\n",
      "Validation accuracy: 25.4%\n",
      "Minibatch loss at step 54500: 0.825437\n",
      "Minibatch accuracy: 75.0%\n",
      "Validation accuracy: 25.4%\n",
      "Minibatch loss at step 55000: 1.244995\n",
      "Minibatch accuracy: 57.8%\n",
      "Validation accuracy: 25.5%\n",
      "Minibatch loss at step 55500: 1.070574\n",
      "Minibatch accuracy: 68.0%\n",
      "Validation accuracy: 25.6%\n",
      "Minibatch loss at step 56000: 1.023885\n",
      "Minibatch accuracy: 68.0%\n",
      "Validation accuracy: 25.7%\n",
      "Minibatch loss at step 56500: 1.268506\n",
      "Minibatch accuracy: 64.1%\n",
      "Validation accuracy: 25.9%\n",
      "Minibatch loss at step 57000: 0.983508\n",
      "Minibatch accuracy: 68.0%\n",
      "Validation accuracy: 25.9%\n",
      "Minibatch loss at step 57500: 0.816870\n",
      "Minibatch accuracy: 69.5%\n",
      "Validation accuracy: 25.9%\n",
      "Minibatch loss at step 58000: 1.274973\n",
      "Minibatch accuracy: 60.9%\n",
      "Validation accuracy: 25.9%\n",
      "Minibatch loss at step 58500: 0.999329\n",
      "Minibatch accuracy: 64.8%\n",
      "Validation accuracy: 26.0%\n",
      "Minibatch loss at step 59000: 0.910957\n",
      "Minibatch accuracy: 68.0%\n",
      "Validation accuracy: 26.1%\n",
      "Minibatch loss at step 59500: 1.118555\n",
      "Minibatch accuracy: 64.8%\n",
      "Validation accuracy: 26.1%\n",
      "Minibatch loss at step 60000: 1.030240\n",
      "Minibatch accuracy: 71.9%\n",
      "Validation accuracy: 26.1%\n",
      "Minibatch loss at step 60500: 1.038923\n",
      "Minibatch accuracy: 67.2%\n",
      "Validation accuracy: 26.1%\n",
      "Minibatch loss at step 61000: 1.219479\n",
      "Minibatch accuracy: 61.7%\n",
      "Validation accuracy: 26.1%\n",
      "Minibatch loss at step 61500: 0.958747\n",
      "Minibatch accuracy: 68.0%\n",
      "Validation accuracy: 26.1%\n",
      "Minibatch loss at step 62000: 0.939829\n",
      "Minibatch accuracy: 69.5%\n",
      "Validation accuracy: 26.1%\n",
      "Minibatch loss at step 62500: 0.970565\n",
      "Minibatch accuracy: 70.3%\n",
      "Validation accuracy: 26.1%\n",
      "Minibatch loss at step 63000: 0.863917\n",
      "Minibatch accuracy: 74.2%\n",
      "Validation accuracy: 26.1%\n",
      "Minibatch loss at step 63500: 0.992188\n",
      "Minibatch accuracy: 66.4%\n",
      "Validation accuracy: 26.2%\n",
      "Minibatch loss at step 64000: 1.074248\n",
      "Minibatch accuracy: 68.8%\n",
      "Validation accuracy: 26.2%\n",
      "Minibatch loss at step 64500: 0.958117\n",
      "Minibatch accuracy: 71.1%\n",
      "Validation accuracy: 26.2%\n",
      "Minibatch loss at step 65000: 1.101590\n",
      "Minibatch accuracy: 64.1%\n",
      "Validation accuracy: 26.2%\n",
      "Minibatch loss at step 65500: 0.951286\n",
      "Minibatch accuracy: 68.8%\n",
      "Validation accuracy: 26.3%\n",
      "Minibatch loss at step 66000: 0.850313\n",
      "Minibatch accuracy: 70.3%\n",
      "Validation accuracy: 26.3%\n",
      "Minibatch loss at step 66500: 0.868556\n",
      "Minibatch accuracy: 73.4%\n",
      "Validation accuracy: 26.3%\n",
      "Minibatch loss at step 67000: 0.883479\n",
      "Minibatch accuracy: 74.2%\n",
      "Validation accuracy: 26.4%\n",
      "Minibatch loss at step 67500: 1.099611\n",
      "Minibatch accuracy: 66.4%\n",
      "Validation accuracy: 26.4%\n",
      "Minibatch loss at step 68000: 1.008196\n",
      "Minibatch accuracy: 68.0%\n",
      "Validation accuracy: 26.5%\n",
      "Minibatch loss at step 68500: 0.828340\n",
      "Minibatch accuracy: 71.9%\n",
      "Validation accuracy: 26.5%\n",
      "Minibatch loss at step 69000: 1.080725\n",
      "Minibatch accuracy: 68.0%\n",
      "Validation accuracy: 26.5%\n",
      "Minibatch loss at step 69500: 0.967894\n",
      "Minibatch accuracy: 70.3%\n",
      "Validation accuracy: 26.5%\n",
      "Minibatch loss at step 70000: 1.019794\n",
      "Minibatch accuracy: 68.8%\n",
      "Validation accuracy: 26.6%\n",
      "Minibatch loss at step 70500: 0.888707\n",
      "Minibatch accuracy: 71.9%\n",
      "Validation accuracy: 26.6%\n",
      "Minibatch loss at step 71000: 0.956237\n",
      "Minibatch accuracy: 68.0%\n",
      "Validation accuracy: 26.6%\n",
      "Minibatch loss at step 71500: 0.833037\n",
      "Minibatch accuracy: 75.0%\n",
      "Validation accuracy: 26.6%\n",
      "Minibatch loss at step 72000: 1.077156\n",
      "Minibatch accuracy: 67.2%\n",
      "Validation accuracy: 26.6%\n",
      "Minibatch loss at step 72500: 1.076252\n",
      "Minibatch accuracy: 63.3%\n",
      "Validation accuracy: 26.6%\n",
      "Minibatch loss at step 73000: 0.867149\n",
      "Minibatch accuracy: 71.9%\n",
      "Validation accuracy: 26.7%\n",
      "Minibatch loss at step 73500: 0.722756\n",
      "Minibatch accuracy: 78.1%\n",
      "Validation accuracy: 26.7%\n",
      "Minibatch loss at step 74000: 0.747903\n",
      "Minibatch accuracy: 74.2%\n",
      "Validation accuracy: 26.7%\n",
      "Minibatch loss at step 74500: 0.988615\n",
      "Minibatch accuracy: 66.4%\n",
      "Validation accuracy: 26.7%\n",
      "Minibatch loss at step 75000: 0.659926\n",
      "Minibatch accuracy: 77.3%\n",
      "Validation accuracy: 26.8%\n",
      "Minibatch loss at step 75500: 0.991648\n",
      "Minibatch accuracy: 68.8%\n",
      "Validation accuracy: 26.8%\n",
      "Minibatch loss at step 76000: 1.027673\n",
      "Minibatch accuracy: 74.2%\n",
      "Validation accuracy: 26.8%\n",
      "Minibatch loss at step 76500: 0.712113\n",
      "Minibatch accuracy: 75.0%\n",
      "Validation accuracy: 26.8%\n",
      "Minibatch loss at step 77000: 0.824673\n",
      "Minibatch accuracy: 71.9%\n",
      "Validation accuracy: 26.8%\n",
      "Minibatch loss at step 77500: 0.854664\n",
      "Minibatch accuracy: 71.1%\n",
      "Validation accuracy: 26.9%\n",
      "Minibatch loss at step 78000: 0.791123\n",
      "Minibatch accuracy: 72.7%\n",
      "Validation accuracy: 26.9%\n",
      "Minibatch loss at step 78500: 0.802665\n",
      "Minibatch accuracy: 71.1%\n",
      "Validation accuracy: 26.9%\n",
      "Minibatch loss at step 79000: 0.712712\n",
      "Minibatch accuracy: 80.5%\n",
      "Validation accuracy: 26.9%\n",
      "Minibatch loss at step 79500: 0.799952\n",
      "Minibatch accuracy: 75.8%\n",
      "Validation accuracy: 26.9%\n",
      "Minibatch loss at step 80000: 1.007944\n",
      "Minibatch accuracy: 71.1%\n",
      "Validation accuracy: 26.9%\n",
      "Minibatch loss at step 80500: 0.970219\n",
      "Minibatch accuracy: 69.5%\n",
      "Validation accuracy: 26.9%\n",
      "Minibatch loss at step 81000: 0.940500\n",
      "Minibatch accuracy: 69.5%\n",
      "Validation accuracy: 26.9%\n",
      "Minibatch loss at step 81500: 0.970747\n",
      "Minibatch accuracy: 67.2%\n",
      "Validation accuracy: 26.9%\n",
      "Minibatch loss at step 82000: 0.794936\n",
      "Minibatch accuracy: 75.0%\n",
      "Validation accuracy: 26.9%\n",
      "Minibatch loss at step 82500: 0.761783\n",
      "Minibatch accuracy: 77.3%\n",
      "Validation accuracy: 26.9%\n",
      "Minibatch loss at step 83000: 0.999932\n",
      "Minibatch accuracy: 69.5%\n",
      "Validation accuracy: 27.0%\n",
      "Minibatch loss at step 83500: 0.806707\n",
      "Minibatch accuracy: 75.0%\n",
      "Validation accuracy: 27.0%\n",
      "Minibatch loss at step 84000: 0.815540\n",
      "Minibatch accuracy: 72.7%\n",
      "Validation accuracy: 27.0%\n",
      "Minibatch loss at step 84500: 0.694989\n",
      "Minibatch accuracy: 78.9%\n",
      "Validation accuracy: 27.0%\n",
      "Minibatch loss at step 85000: 0.551242\n",
      "Minibatch accuracy: 80.5%\n",
      "Validation accuracy: 27.1%\n",
      "Minibatch loss at step 85500: 0.729857\n",
      "Minibatch accuracy: 80.5%\n",
      "Validation accuracy: 27.2%\n",
      "Minibatch loss at step 86000: 0.912597\n",
      "Minibatch accuracy: 70.3%\n",
      "Validation accuracy: 27.2%\n",
      "Minibatch loss at step 86500: 0.909064\n",
      "Minibatch accuracy: 75.0%\n",
      "Validation accuracy: 27.2%\n",
      "Minibatch loss at step 87000: 0.771511\n",
      "Minibatch accuracy: 75.0%\n",
      "Validation accuracy: 27.2%\n",
      "Minibatch loss at step 87500: 0.956835\n",
      "Minibatch accuracy: 76.6%\n",
      "Validation accuracy: 27.2%\n",
      "Minibatch loss at step 88000: 0.744631\n",
      "Minibatch accuracy: 74.2%\n",
      "Validation accuracy: 27.2%\n",
      "Minibatch loss at step 88500: 0.877333\n",
      "Minibatch accuracy: 72.7%\n",
      "Validation accuracy: 27.2%\n",
      "Minibatch loss at step 89000: 0.857630\n",
      "Minibatch accuracy: 71.9%\n",
      "Validation accuracy: 27.3%\n",
      "Minibatch loss at step 89500: 0.775917\n",
      "Minibatch accuracy: 77.3%\n",
      "Validation accuracy: 27.3%\n",
      "Minibatch loss at step 90000: 0.796143\n",
      "Minibatch accuracy: 74.2%\n",
      "Validation accuracy: 27.3%\n",
      "Minibatch loss at step 90500: 0.652269\n",
      "Minibatch accuracy: 78.9%\n",
      "Validation accuracy: 27.4%\n",
      "Minibatch loss at step 91000: 0.685080\n",
      "Minibatch accuracy: 76.6%\n",
      "Validation accuracy: 27.4%\n",
      "Minibatch loss at step 91500: 0.930372\n",
      "Minibatch accuracy: 70.3%\n",
      "Validation accuracy: 27.4%\n",
      "Minibatch loss at step 92000: 0.683042\n",
      "Minibatch accuracy: 75.0%\n",
      "Validation accuracy: 27.4%\n",
      "Minibatch loss at step 92500: 0.831651\n",
      "Minibatch accuracy: 76.6%\n",
      "Validation accuracy: 27.4%\n",
      "Minibatch loss at step 93000: 0.868394\n",
      "Minibatch accuracy: 75.0%\n",
      "Validation accuracy: 27.4%\n",
      "Minibatch loss at step 93500: 0.687933\n",
      "Minibatch accuracy: 77.3%\n",
      "Validation accuracy: 27.4%\n",
      "Minibatch loss at step 94000: 0.631775\n",
      "Minibatch accuracy: 80.5%\n",
      "Validation accuracy: 27.4%\n",
      "Minibatch loss at step 94500: 0.680924\n",
      "Minibatch accuracy: 76.6%\n",
      "Validation accuracy: 27.4%\n",
      "Minibatch loss at step 95000: 0.674105\n",
      "Minibatch accuracy: 75.8%\n",
      "Validation accuracy: 27.4%\n",
      "Minibatch loss at step 95500: 0.717437\n",
      "Minibatch accuracy: 74.2%\n",
      "Validation accuracy: 27.4%\n",
      "Minibatch loss at step 96000: 0.602507\n",
      "Minibatch accuracy: 78.9%\n",
      "Validation accuracy: 27.4%\n",
      "Minibatch loss at step 96500: 0.932283\n",
      "Minibatch accuracy: 74.2%\n",
      "Validation accuracy: 27.4%\n",
      "Minibatch loss at step 97000: 0.776179\n",
      "Minibatch accuracy: 72.7%\n",
      "Validation accuracy: 27.5%\n",
      "Minibatch loss at step 97500: 0.659655\n",
      "Minibatch accuracy: 76.6%\n",
      "Validation accuracy: 27.4%\n",
      "Minibatch loss at step 98000: 0.883977\n",
      "Minibatch accuracy: 74.2%\n",
      "Validation accuracy: 27.5%\n",
      "Minibatch loss at step 98500: 0.755980\n",
      "Minibatch accuracy: 75.8%\n",
      "Validation accuracy: 27.5%\n",
      "Minibatch loss at step 99000: 0.705624\n",
      "Minibatch accuracy: 80.5%\n",
      "Validation accuracy: 27.4%\n",
      "Minibatch loss at step 99500: 0.688144\n",
      "Minibatch accuracy: 76.6%\n",
      "Validation accuracy: 27.4%\n",
      "Minibatch loss at step 100000: 0.799201\n",
      "Minibatch accuracy: 76.6%\n",
      "Validation accuracy: 27.4%\n",
      "Test accuracy: 28.3%\n"
     ]
    }
   ],
   "source": [
    "num_steps = 100001\n",
    "valid_labels=reformat(validation_labels)\n",
    "test_labels=reformat(testing_labels)\n",
    "with tf.Session(graph=graph) as session:\n",
    "  tf.initialize_all_variables().run()\n",
    "  print(\"Initialized\")\n",
    "  for step in range(num_steps):\n",
    "    # Pick an offset within the training data, which has been randomized.\n",
    "    # Note: we could use better randomization across epochs.\n",
    "    batch_data,labels= training_data.next_batch(batch_size)\n",
    "    batch_labels=reformat(labels)\n",
    "    # Prepare a dictionary telling the session where to feed the minibatch.\n",
    "    # The key of the dictionary is the placeholder node of the graph to be fed,\n",
    "    # and the value is the numpy array to feed to it.\n",
    "    feed_dict = {tf_train_dataset : batch_data, tf_train_labels : batch_labels}\n",
    "    _, l, predictions = session.run(\n",
    "      [optimizer, loss, train_prediction], feed_dict=feed_dict)\n",
    "    if (step % 500 == 0):\n",
    "      print(\"Minibatch loss at step %d: %f\" % (step, l))\n",
    "      print(\"Minibatch accuracy: %.1f%%\" % accuracy(predictions, batch_labels))\n",
    "      \n",
    "      print(\"Validation accuracy: %.1f%%\" % accuracy(\n",
    "        valid_prediction.eval(), valid_labels))\n",
    "  print(\"Test accuracy: %.1f%%\" % accuracy(test_prediction.eval(), test_labels))"
   ]
  },
  {
   "cell_type": "code",
   "execution_count": 2,
   "metadata": {
    "collapsed": true
   },
   "outputs": [],
   "source": [
    "import pickle"
   ]
  },
  {
   "cell_type": "code",
   "execution_count": 22,
   "metadata": {
    "collapsed": false
   },
   "outputs": [],
   "source": [
    "fwf = open('feature_weights.pkl', 'wb')\n",
    "pickle.dump(feature_weights,fwf,2)"
   ]
  },
  {
   "cell_type": "code",
   "execution_count": 24,
   "metadata": {
    "collapsed": true
   },
   "outputs": [],
   "source": [
    "fbf = open('feature_baises.pkl', 'wb')\n",
    "pickle.dump(feature_biases,fbf,2)"
   ]
  },
  {
   "cell_type": "code",
   "execution_count": 3,
   "metadata": {
    "collapsed": false
   },
   "outputs": [],
   "source": [
    "feature_weights=pickle.load(open(\"feature_weights.pkl\", \"rb\"))"
   ]
  },
  {
   "cell_type": "code",
   "execution_count": 9,
   "metadata": {
    "collapsed": true
   },
   "outputs": [],
   "source": [
    "pickle.dump?"
   ]
  },
  {
   "cell_type": "code",
   "execution_count": null,
   "metadata": {
    "collapsed": true
   },
   "outputs": [],
   "source": [
    ""
   ]
  }
 ],
 "metadata": {
  "colab": {
   "default_view": {},
   "name": "3_regularization.ipynb",
   "provenance": [],
   "version": "0.3.2",
   "views": {}
  },
  "kernelspec": {
   "display_name": "Python 2",
   "language": "python",
   "name": "python2"
  },
  "language_info": {
   "codemirror_mode": {
    "name": "ipython",
    "version": 2
   },
   "file_extension": ".py",
   "mimetype": "text/x-python",
   "name": "python",
   "nbconvert_exporter": "python",
   "pygments_lexer": "ipython2",
   "version": "2.7.6"
  }
 },
 "nbformat": 4,
 "nbformat_minor": 0
}
