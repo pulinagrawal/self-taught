{
 "cells": [
  {
   "cell_type": "markdown",
   "metadata": {
    "colab_type": "text",
    "id": "kR-4eNdK6lYS"
   },
   "source": [
    "Deep Learning\n",
    "=============\n",
    "\n",
    "Assignment Sparse Autoencoder\n",
    "------------\n",
    "\n",
    "Structured from `2_fullyconnected.ipynb`\n",
    "\n",
    "The goal of this assignment is to train a sparse autoencoder network on MNIST Data and visulize its validation data reconstruction."
   ]
  },
  {
   "cell_type": "code",
   "execution_count": 1,
   "metadata": {
    "cellView": "both",
    "colab": {
     "autoexec": {
      "startup": false,
      "wait_interval": 0
     }
    },
    "colab_type": "code",
    "collapsed": false,
    "id": "JLpLa8Jt7Vu4"
   },
   "outputs": [],
   "source": [
    "# These are all the modules we'll be using later. Make sure you can import them\n",
    "# before proceeding further.\n",
    "from __future__ import print_function\n",
    "import re\n",
    "import sys\n",
    "import pickle\n",
    "\n",
    "import numpy as np\n",
    "import tensorflow as tf\n",
    "from tensorflow.contrib.learn.python.learn.datasets.mnist import read_data_sets\n",
    "from tensorflow.examples.tutorials.mnist import input_data"
   ]
  },
  {
   "cell_type": "code",
   "execution_count": 2,
   "metadata": {
    "collapsed": true
   },
   "outputs": [],
   "source": [
    "def save_model(model, filename, step):\n",
    "    with open(filename+str(step)+'.pkl', 'wb') as mf:\n",
    "        pickle.dump(model, mf)\n",
    "\n",
    "def load_model(filename):\n",
    "    with open(filename, 'rb') as mf:\n",
    "        model = pickle.load(mf)\n",
    "    return model"
   ]
  },
  {
   "cell_type": "code",
   "execution_count": 4,
   "metadata": {
    "collapsed": false
   },
   "outputs": [],
   "source": [
    " feature_weights, feature_biases, _ = load_model(\"model414000.pkl\")"
   ]
  },
  {
   "cell_type": "markdown",
   "metadata": {
    "colab_type": "text",
    "id": "1HrCK6e17WzV"
   },
   "source": [
    "First we load the MNIST data"
   ]
  },
  {
   "cell_type": "code",
   "execution_count": 5,
   "metadata": {
    "collapsed": false
   },
   "outputs": [
    {
     "name": "stdout",
     "output_type": "stream",
     "text": [
      "Extracting train-images-idx3-ubyte.gz\n",
      "Extracting train-labels-idx1-ubyte.gz\n",
      "Extracting t10k-images-idx3-ubyte.gz\n",
      "Extracting t10k-labels-idx1-ubyte.gz\n"
     ]
    }
   ],
   "source": [
    "data_set = input_data.read_data_sets('', False)\n",
    "training_data = data_set.train\n",
    "testing_data = data_set.test"
   ]
  },
  {
   "cell_type": "markdown",
   "metadata": {},
   "source": [
    "Checking  the data"
   ]
  },
  {
   "cell_type": "code",
   "execution_count": 6,
   "metadata": {
    "collapsed": false
   },
   "outputs": [
    {
     "data": {
      "text/plain": [
       "0.0"
      ]
     },
     "execution_count": 6,
     "metadata": {},
     "output_type": "execute_result"
    }
   ],
   "source": [
    "images_feed, labels_feed = training_data.next_batch(10000, False)\n",
    "image_size = 28\n",
    "num_labels = 10\n",
    "np.min(images_feed)"
   ]
  },
  {
   "cell_type": "markdown",
   "metadata": {
    "colab_type": "text",
    "id": "L7aHrm6nGDMB"
   },
   "source": [
    "Do validation testing:\n",
    "- data as a flat matrix,\n"
   ]
  },
  {
   "cell_type": "code",
   "execution_count": 7,
   "metadata": {
    "collapsed": false
   },
   "outputs": [],
   "source": [
    "validation_data = data_set.validation\n",
    "valid_batch, validation_labels = validation_data.next_batch(validation_data.num_examples)"
   ]
  },
  {
   "cell_type": "code",
   "execution_count": 8,
   "metadata": {
    "collapsed": true
   },
   "outputs": [],
   "source": [
    "beta = 3\n",
    "rho = .1\n",
    "nHidden = 196\n",
    "image_size = 28\n",
    "batch_size = 128"
   ]
  },
  {
   "cell_type": "code",
   "execution_count": 9,
   "metadata": {
    "collapsed": false
   },
   "outputs": [
    {
     "ename": "NameError",
     "evalue": "name 'graph' is not defined",
     "output_type": "error",
     "traceback": [
      "\u001b[0;31m---------------------------------------------------------------------------\u001b[0m",
      "\u001b[0;31mNameError\u001b[0m                                 Traceback (most recent call last)",
      "\u001b[0;32m<ipython-input-9-a35aa29d9d32>\u001b[0m in \u001b[0;36m<module>\u001b[0;34m()\u001b[0m\n\u001b[1;32m      1\u001b[0m \u001b[0mstep\u001b[0m \u001b[0;34m=\u001b[0m \u001b[0;36m0\u001b[0m\u001b[0;34m\u001b[0m\u001b[0m\n\u001b[1;32m      2\u001b[0m \u001b[0;34m\u001b[0m\u001b[0m\n\u001b[0;32m----> 3\u001b[0;31m \u001b[0;32mwith\u001b[0m \u001b[0mtf\u001b[0m\u001b[0;34m.\u001b[0m\u001b[0mSession\u001b[0m\u001b[0;34m(\u001b[0m\u001b[0mgraph\u001b[0m\u001b[0;34m=\u001b[0m\u001b[0mgraph\u001b[0m\u001b[0;34m)\u001b[0m \u001b[0;32mas\u001b[0m \u001b[0msession\u001b[0m\u001b[0;34m:\u001b[0m\u001b[0;34m\u001b[0m\u001b[0m\n\u001b[0m\u001b[1;32m      4\u001b[0m     \u001b[0mtf\u001b[0m\u001b[0;34m.\u001b[0m\u001b[0minitialize_all_variables\u001b[0m\u001b[0;34m(\u001b[0m\u001b[0;34m)\u001b[0m\u001b[0;34m.\u001b[0m\u001b[0mrun\u001b[0m\u001b[0;34m(\u001b[0m\u001b[0;34m)\u001b[0m\u001b[0;34m\u001b[0m\u001b[0m\n\u001b[1;32m      5\u001b[0m     \u001b[0;32mprint\u001b[0m\u001b[0;34m(\u001b[0m\u001b[0;34m\"Initialized\"\u001b[0m\u001b[0;34m)\u001b[0m\u001b[0;34m\u001b[0m\u001b[0m\n",
      "\u001b[0;31mNameError\u001b[0m: name 'graph' is not defined"
     ]
    }
   ],
   "source": [
    "step = 0\n",
    "\n",
    "with tf.Session(graph=graph) as session:\n",
    "    tf.initialize_all_variables().run()\n",
    "    print(\"Initialized\")\n",
    "    batch_data, _ = training_data.next_batch(batch_size)\n",
    "    # Prepare a dictionary telling the session where to feed the minibatch.\n",
    "    # The key of the dictionary is the placeholder node of the graph to be fed,\n",
    "    # and the value is the numpy array to feed to it.\n",
    "    v_l = 20000\n",
    "    while True:\n",
    "        step += 1\n",
    "        # Pick an offset within the training data, which has been randomized.\n",
    "        # Note: we could use better randomization across epochs.\n",
    "        # Generate a minibatch.\n",
    "        batch_data, _ = training_data.next_batch(batch_size)\n",
    "        # Prepare a dictionary telling the session where to feed the minibatch.\n",
    "        # The key of the dictionary is the placeholder node of the graph to be fed,\n",
    "        # and the value is the numpy array to feed to it.\n",
    "        feed_dict = {tf_train_dataset: batch_data}\n",
    "        _, l, feature_weights, feature_biases = session.run(\n",
    "                                                  [optimizer, loss, weights_hidden1, biases_hidden1], \n",
    "                                                  feed_dict=feed_dict)\n",
    "        if step%100000 == 0:\n",
    "            fbf = open('feature_baises_' + str(step) + '.pkl', 'wb')\n",
    "            pickle.dump(feature_biases, fbf)\n",
    "            fbf.close()\n",
    "            fwf = open('feature_weights_' + str(step) + '.pkl', 'wb')\n",
    "            pickle.dump(feature_weights, fwf)\n",
    "            fwf.close()\n",
    "            \n",
    "        if verify_validation[0]:\n",
    "            _, l, v_l, valid_out_data = session.run(\n",
    "                                            [optimizer, train_loss, valid_loss, valid_output_units],\n",
    "                                            feed_dict=feed_dict)\n",
    "            print(\"step\", step, \" \\tTrain loss \", l, \"\\tValid loss\", v_l)\n",
    "            if v_l < verify_validation[0]:\n",
    "                    save_model(model, 'model', step)\n",
    "                    print(\"Found better validation. Looking for better...\")\n",
    "                    verify_validation = True, v_l, step\n",
    "            if step > verify_validation[2]+100:\n",
    "                break\n",
    "                \n",
    "        if step%500 == 0:\n",
    "            prev_v_l = v_l\n",
    "            _, l, v_l, valid_out_data = session.run(\n",
    "                                            [optimizer, loss, valid_loss,valid_output_units],\n",
    "                                            feed_dict=feed_dict)\n",
    "            print(\"step\", step, \" \\tTrain loss \", l, \"\\tValid loss\", v_l)\n",
    "            if prev_v_l < v_l:\n",
    "                    save_model(model, 'model', step)\n",
    "                    print(\"Looking for better validation now...\")\n",
    "                    verify_validation = True, v_l, step"
   ]
  },
  {
   "cell_type": "markdown",
   "metadata": {},
   "source": [
    "## Training Softmax Classifier"
   ]
  },
  {
   "cell_type": "code",
   "execution_count": 10,
   "metadata": {
    "collapsed": true
   },
   "outputs": [],
   "source": [
    "test_dataset, testing_labels = testing_data.next_batch(testing_data.num_examples)"
   ]
  },
  {
   "cell_type": "code",
   "execution_count": 11,
   "metadata": {
    "collapsed": false
   },
   "outputs": [],
   "source": [
    "batch_size = 128\n",
    "num_labels = 10\n",
    "nHidden = 196\n",
    "beta = 3\n",
    "rho = .1\n",
    "tf.reset_default_graph()\n",
    "graph = tf.Graph()\n",
    "with graph.as_default():\n",
    "\n",
    "    # Input data. For the training data, we use a placeholder that will be fed\n",
    "    # at run time with a training minibatch.\n",
    "    weights_hidden1 = tf.constant(feature_weights)\n",
    "    biases_hidden1 = tf.constant(feature_biases)\n",
    "    tf_train_dataset = tf.placeholder(tf.float32,\n",
    "                                      shape=(batch_size, image_size * image_size))\n",
    "    tf_train_labels = tf.placeholder(tf.float32, shape=(batch_size, num_labels))\n",
    "    tf_valid_dataset = tf.constant(valid_batch)\n",
    "    tf_test_dataset = tf.constant(test_dataset)\n",
    "\n",
    "    # Variables.\n",
    "    logit_weights= tf.Variable(tf.truncated_normal([nHidden, num_labels]))\n",
    "    logit_biases = tf.Variable(tf.zeros([num_labels]))\n",
    "\n",
    "    # Training computation.\n",
    "    hidden1 = tf.nn.sigmoid(tf.matmul(tf_train_dataset, weights_hidden1)  + biases_hidden1)\n",
    "    logits = tf.matmul(hidden1, logit_weights) + logit_biases\n",
    "    loss = tf.reduce_mean(tf.nn.softmax_cross_entropy_with_logits(logits, tf_train_labels))\n",
    "\n",
    "    # Optimizer.\n",
    "    global_step = tf.Variable(0)  # count the number of steps taken.\n",
    "    learning_rate = tf.train.exponential_decay(0.05, global_step, 100000, 0.96)\n",
    "    optimizer = tf.train.GradientDescentOptimizer(learning_rate).minimize(loss, global_step=global_step)\n",
    "\n",
    "    # Predictions for the training, validation, and test data.\n",
    "    train_prediction = tf.nn.softmax(logits)\n",
    "    valid_prediction = tf.nn.softmax(tf.matmul(\n",
    "      tf.nn.sigmoid(tf.matmul(tf_valid_dataset, weights_hidden1) + biases_hidden1), logit_weights) + logit_biases)\n",
    "    test_prediction = tf.nn.softmax(tf.matmul(\n",
    "      tf.nn.sigmoid(tf.matmul(tf_test_dataset, weights_hidden1) + biases_hidden1), logit_weights) + logit_biases)"
   ]
  },
  {
   "cell_type": "code",
   "execution_count": 12,
   "metadata": {
    "collapsed": false
   },
   "outputs": [],
   "source": [
    "def reformat(labels):\n",
    "    # Map 0 to [1.0, 0.0, 0.0 ...], 1 to [0.0, 1.0, 0.0 ...]\n",
    "    labels = (np.arange(num_labels) == labels[:,None]).astype(np.float32)\n",
    "    return labels\n",
    "\n",
    "def accuracy(predictions, labels):\n",
    "    return (100.0 * np.sum(np.argmax(predictions, 1) == np.argmax(labels, 1))\n",
    "            / predictions.shape[0])\n",
    "\n",
    "def save_data(weights, biases, weights_filename, biases_filename, step):\n",
    "    fbf = open(biases_filename + str(step) + '.pkl', 'wb')\n",
    "    pickle.dump(biases, fbf)\n",
    "    fbf.close()\n",
    "    fwf = open(weights_filename + str(step) + '.pkl', 'wb')\n",
    "    pickle.dump(weights, fwf)\n",
    "    fwf.close()"
   ]
  },
  {
   "cell_type": "code",
   "execution_count": 14,
   "metadata": {
    "collapsed": false
   },
   "outputs": [
    {
     "name": "stdout",
     "output_type": "stream",
     "text": [
      "Initialized\n",
      "Minibatch loss at step 500: 1.736174\n",
      "Minibatch accuracy: 61.7%\n",
      "Validation accuracy: 63.4%\n",
      "Minibatch loss at step 1000: 1.074610\n",
      "Minibatch accuracy: 69.5%\n",
      "Validation accuracy: 75.0%\n",
      "Minibatch loss at step 1500: 1.401974\n",
      "Minibatch accuracy: 72.7%\n",
      "Validation accuracy: 80.1%\n",
      "Minibatch loss at step 2000: 0.675845\n",
      "Minibatch accuracy: 85.2%\n",
      "Validation accuracy: 82.4%\n",
      "Minibatch loss at step 2500: 0.570197\n",
      "Minibatch accuracy: 87.5%\n",
      "Validation accuracy: 84.2%\n",
      "Minibatch loss at step 3000: 0.798934\n",
      "Minibatch accuracy: 82.0%\n",
      "Validation accuracy: 85.4%\n",
      "Minibatch loss at step 3500: 0.409281\n",
      "Minibatch accuracy: 90.6%\n",
      "Validation accuracy: 86.4%\n",
      "Minibatch loss at step 4000: 0.422428\n",
      "Minibatch accuracy: 87.5%\n",
      "Validation accuracy: 87.0%\n",
      "Minibatch loss at step 4500: 0.535691\n",
      "Minibatch accuracy: 85.9%\n",
      "Validation accuracy: 87.6%\n",
      "Minibatch loss at step 5000: 0.511866\n",
      "Minibatch accuracy: 89.1%\n",
      "Validation accuracy: 88.2%\n",
      "Minibatch loss at step 5500: 0.341208\n",
      "Minibatch accuracy: 91.4%\n",
      "Validation accuracy: 88.4%\n",
      "Minibatch loss at step 6000: 0.504902\n",
      "Minibatch accuracy: 86.7%\n",
      "Validation accuracy: 88.9%\n",
      "Minibatch loss at step 6500: 0.678626\n",
      "Minibatch accuracy: 86.7%\n",
      "Validation accuracy: 89.2%\n",
      "Minibatch loss at step 7000: 0.465574\n",
      "Minibatch accuracy: 86.7%\n",
      "Validation accuracy: 89.5%\n",
      "Minibatch loss at step 7500: 0.343478\n",
      "Minibatch accuracy: 93.0%\n",
      "Validation accuracy: 89.7%\n",
      "Minibatch loss at step 8000: 0.230648\n",
      "Minibatch accuracy: 92.2%\n",
      "Validation accuracy: 89.8%\n",
      "Minibatch loss at step 8500: 0.566106\n",
      "Minibatch accuracy: 85.9%\n",
      "Validation accuracy: 90.1%\n",
      "Minibatch loss at step 9000: 0.358724\n",
      "Minibatch accuracy: 93.0%\n",
      "Validation accuracy: 90.2%\n",
      "Minibatch loss at step 9500: 0.517817\n",
      "Minibatch accuracy: 87.5%\n",
      "Validation accuracy: 90.2%\n",
      "Minibatch loss at step 10000: 0.444339\n",
      "Minibatch accuracy: 89.1%\n",
      "Validation accuracy: 90.4%\n",
      "Minibatch loss at step 10500: 0.269045\n",
      "Minibatch accuracy: 89.8%\n",
      "Validation accuracy: 90.6%\n",
      "Minibatch loss at step 11000: 0.456474\n",
      "Minibatch accuracy: 88.3%\n",
      "Validation accuracy: 90.6%\n",
      "Test accuracy: 89.9%\n"
     ]
    }
   ],
   "source": [
    "def save_for_supervised():\n",
    "    return save_data(weights, biases, 'out_weights_', 'out_biases_', step)\n",
    "\n",
    "step = 0\n",
    "valid_labels = reformat(validation_labels)\n",
    "test_labels = reformat(testing_labels)\n",
    "valid_acc = 0\n",
    "with tf.Session(graph=graph) as session:\n",
    "    tf.initialize_all_variables().run()\n",
    "    print(\"Initialized\")\n",
    "    while True:\n",
    "        step += 1\n",
    "        # Pick an offset within the training data, which has been randomized.\n",
    "        # Note: we could use better randomization across epochs.\n",
    "        batch_data, labels = training_data.next_batch(batch_size)\n",
    "        batch_labels = reformat(labels)\n",
    "        # Prepare a dictionary telling the session where to feed the minibatch.\n",
    "        # The key of the dictionary is the placeholder node of the graph to be fed,\n",
    "        # and the value is the numpy array to feed to it.\n",
    "        feed_dict = {tf_train_dataset: batch_data, tf_train_labels: batch_labels}\n",
    "        _, l, predictions, weights, biases = session.run([optimizer, loss, train_prediction,\n",
    "                                                          logit_weights, logit_biases],\n",
    "                                                         feed_dict=feed_dict)\n",
    "        if step%500 == 0:\n",
    "            prev_valid_acc = valid_acc\n",
    "            print(\"Minibatch loss at step %d: %f\" % (step, l))\n",
    "            print(\"Minibatch accuracy: %.1f%%\" % accuracy(predictions, \n",
    "                                                          batch_labels))\n",
    "\n",
    "            valid_acc = accuracy(valid_prediction.eval(), valid_labels)\n",
    "            print(\"Validation accuracy: %.1f%%\" % valid_acc)\n",
    "            \n",
    "            if prev_valid_acc > valid_acc:\n",
    "                save_for_supervised()\n",
    "                break\n",
    "                \n",
    "        if step%100000 == 0:\n",
    "            save_for_supervised()\n",
    "            \n",
    "    print(\"Test accuracy: %.1f%%\" % accuracy(test_prediction.eval(),\n",
    "                                             test_labels))"
   ]
  },
  {
   "cell_type": "code",
   "execution_count": 20,
   "metadata": {
    "collapsed": false
   },
   "outputs": [
    {
     "data": {
      "text/plain": [
       "82.76"
      ]
     },
     "execution_count": 20,
     "metadata": {},
     "output_type": "execute_result"
    }
   ],
   "source": [
    "valid_acc"
   ]
  },
  {
   "cell_type": "code",
   "execution_count": 27,
   "metadata": {
    "collapsed": false
   },
   "outputs": [
    {
     "data": {
      "text/plain": [
       "82.78"
      ]
     },
     "execution_count": 27,
     "metadata": {},
     "output_type": "execute_result"
    }
   ],
   "source": [
    "prev_valid_acc"
   ]
  },
  {
   "cell_type": "code",
   "execution_count": 30,
   "metadata": {
    "collapsed": false
   },
   "outputs": [],
   "source": [
    "save_data(weights, biases, 'out_weights', 'out_biases', step)"
   ]
  },
  {
   "cell_type": "code",
   "execution_count": null,
   "metadata": {
    "collapsed": true
   },
   "outputs": [],
   "source": []
  }
 ],
 "metadata": {
  "colab": {
   "default_view": {},
   "name": "3_regularization.ipynb",
   "provenance": [],
   "version": "0.3.2",
   "views": {}
  },
  "kernelspec": {
   "display_name": "Python 2",
   "language": "python",
   "name": "python2"
  },
  "language_info": {
   "codemirror_mode": {
    "name": "ipython",
    "version": 2
   },
   "file_extension": ".py",
   "mimetype": "text/x-python",
   "name": "python",
   "nbconvert_exporter": "python",
   "pygments_lexer": "ipython2",
   "version": "2.7.6"
  }
 },
 "nbformat": 4,
 "nbformat_minor": 0
}
